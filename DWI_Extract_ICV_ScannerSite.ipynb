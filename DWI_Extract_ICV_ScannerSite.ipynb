{
 "cells": [
  {
   "cell_type": "markdown",
   "id": "senior-worthy",
   "metadata": {},
   "source": [
    "## Extract total brain volume and data collection site"
   ]
  },
  {
   "cell_type": "code",
   "execution_count": 2,
   "id": "automotive-salad",
   "metadata": {},
   "outputs": [],
   "source": [
    "from os.path import join\n",
    "import nibabel as nib\n",
    "import pandas as pd\n",
    "import numpy as np\n",
    "from glob import glob\n",
    "import json\n",
    "from datetime import date\n",
    "\n",
    "today = str(date.today())"
   ]
  },
  {
   "cell_type": "code",
   "execution_count": 55,
   "id": "accompanied-intention",
   "metadata": {},
   "outputs": [],
   "source": [
    "# Read in paths for data and subject list\n",
    "bidspath = '/gpfs/milgram/pi/gee_dylan/candlab/data/mri/bids_recon/shapes'\n",
    "datapath = '/gpfs/milgram/pi/gee_dylan/candlab/analyses/shapes/dwi/QSIPrep/output_data/qsiprep'\n",
    "analysis = '/gpfs/milgram/pi/gee_dylan/candlab/analyses/shapes/Shapes_Phenotyping/Analysis'\n",
    "subjects = pd.read_csv('/gpfs/milgram/pi/gee_dylan/candlab/analyses/shapes/Shapes_Phenotyping/Analysis/subjectlist_2022-10-26.csv')\n",
    "sublist = subjects.iloc[:,0].tolist()"
   ]
  },
  {
   "cell_type": "code",
   "execution_count": 50,
   "id": "practical-scroll",
   "metadata": {},
   "outputs": [
    {
     "name": "stdout",
     "output_type": "stream",
     "text": [
      "Error accessing stats for sub-A200\n",
      "Error accessing stats for sub-A680\n"
     ]
    }
   ],
   "source": [
    "# Pull ICV from Freesurfer output\n",
    "volumes = []\n",
    "\n",
    "for i in range(0, len(sublist)):\n",
    "    try:\n",
    "        sub = sublist[i]\n",
    "        stats = pd.read_csv('/gpfs/milgram/project/gee_dylan/candlab/data/mri/shapes_freesurfer/{}/stats/aseg.stats'.format(sub),\n",
    "                           sep='\\n', error_bad_lines=False, header = 1, engine = 'python')\n",
    "        etiv = stats.iloc[32,0].split(',')[3] #Extract eITV volume from Freesurfer stats file\n",
    "        volumes.append([sub, etiv])\n",
    "    except:\n",
    "        print('Error accessing stats for {}'.format(sub))"
   ]
  },
  {
   "cell_type": "code",
   "execution_count": 52,
   "id": "acting-arlington",
   "metadata": {},
   "outputs": [],
   "source": [
    "# # Calculate ICV (compared this output to FSLstats, it is the same)\n",
    "\n",
    "# volumes = []\n",
    "# for i in range(0, len(sublist)):\n",
    "#     sub = sublist[i]\n",
    "#     # Calculate ICV\n",
    "#     bm_file = datapath + '/{}/anat/{}_desc-brain_mask.nii.gz'.format(sub, sub) # File format for brain mask files\n",
    "#     image_file = nib.load(bm_file) # Load brain mask\n",
    "#     image_values = image_file.get_fdata().flatten() # Load nifti values and reshape to single dim array\n",
    "#     icv = len(image_values[image_values > 0]) # ICV is number of non-zero voxels in brain mask\n",
    "\n",
    "#     #Append to data frame \n",
    "#     volumes.append([sub, icv])"
   ]
  },
  {
   "cell_type": "code",
   "execution_count": 53,
   "id": "oriental-berkeley",
   "metadata": {},
   "outputs": [],
   "source": [
    "sites = []\n",
    "\n",
    "for i in range(0, len(sublist)):\n",
    "    sub = sublist[i]\n",
    "    file = bidspath + '/{}/ses-shapesV1/anat/{}_ses-shapesV1_T1w.json'.format(sub, sub)\n",
    "    data = json.load(open(file))\n",
    "    site = data['InstitutionName']\n",
    "    sites.append([sub, site])"
   ]
  },
  {
   "cell_type": "code",
   "execution_count": 57,
   "id": "protective-worker",
   "metadata": {},
   "outputs": [],
   "source": [
    "# Put ICV data in dataframe\n",
    "voxdf = pd.DataFrame(volumes, columns = ['subjectid', 'icv_voxels']).sort_values(by=['subjectid'])   \n",
    "\n",
    "# Put site ID info in data frame\n",
    "sitedf = pd.DataFrame(sites, columns = ['subjectid', 'site'])\n",
    "\n",
    "# Merge dataframe, rename scan sites, write to CSV\n",
    "finaldf = pd.merge(voxdf, sitedf, on='subjectid', how = 'inner').replace('Yale_University_-_Dunham_Lab._Bldg.', 'BIC').replace('Cedar_300_New_Haven_CT_US_06510', 'MRRC')\n",
    "finaldf.to_csv(analysis + '/IntracranialVolumes_ScanSites_{}.csv'.format(today), index=False)"
   ]
  },
  {
   "cell_type": "code",
   "execution_count": null,
   "id": "innovative-thailand",
   "metadata": {},
   "outputs": [],
   "source": []
  }
 ],
 "metadata": {
  "kernelspec": {
   "display_name": "Python 3",
   "language": "python",
   "name": "python3"
  },
  "language_info": {
   "codemirror_mode": {
    "name": "ipython",
    "version": 3
   },
   "file_extension": ".py",
   "mimetype": "text/x-python",
   "name": "python",
   "nbconvert_exporter": "python",
   "pygments_lexer": "ipython3",
   "version": "3.7.9"
  }
 },
 "nbformat": 4,
 "nbformat_minor": 5
}
