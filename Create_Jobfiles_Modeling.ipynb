{
 "cells": [
  {
   "cell_type": "markdown",
   "metadata": {},
   "source": [
    "### Create dsQ job submission array\n",
    "#### Commands: \n",
    "\n",
    "\n",
    "ml load dSQ/1.05\n",
    "\n",
    "1: dsq --job-file 4_HyperparamSelection_dsq_job_array.txt --ntasks=1 --nodes=1 --mem-per-cpu=10G --time=2:00:00 --mail-type ALL --partition psych_day --cpus-per-task=1 \n",
    "\n",
    "2: dsq --job-file 4_PMD_Modeling_dsq_job_array.txt --ntasks=1 --nodes=1 --mem-per-cpu=10G --time=2:00:00 --mail-type ALL --partition psych_day --cpus-per-task=1 \n"
   ]
  },
  {
   "cell_type": "code",
   "execution_count": null,
   "metadata": {},
   "outputs": [],
   "source": [
    "import pandas as pd\n",
    "import csv\n",
    "from glob import glob\n",
    "import os\n",
    "\n",
    "pd.options.display.max_rows = 999\n",
    "pd.options.display.max_columns = 999"
   ]
  },
  {
   "cell_type": "code",
   "execution_count": null,
   "metadata": {},
   "outputs": [],
   "source": [
    "home = '/home/lms233/Github/shapes_qsiprep'\n",
    "candpath = '/gpfs/milgram/pi/gee_dylan/candlab'\n",
    "data = candpath + '/analyses/shapes/dwi/data'\n",
    "dwi = candpath + '/analyses/shapes/dwi'"
   ]
  },
  {
   "cell_type": "markdown",
   "metadata": {},
   "source": [
    "## Create batch file for PMD modeling"
   ]
  },
  {
   "cell_type": "code",
   "execution_count": null,
   "metadata": {},
   "outputs": [],
   "source": [
    "commands_pmd = []\n",
    "num_iters_pmd = 10000\n",
    "modality = 'qa'\n",
    "\n",
    "for num in range(0, num_iters_pmd):\n",
    "    commands_pmd.append('sh sbatch_DWI_RI_PMDModeling.sh {} {}'.format(num, modality))"
   ]
  },
  {
   "cell_type": "code",
   "execution_count": null,
   "metadata": {},
   "outputs": [],
   "source": [
    "out = pd.DataFrame(commands_pmd)\n",
    "out.to_csv(home + '/4_PMD_Modeling_dsq_job_{}_array.txt'.format(modality), sep = '\\t', header = False, index=False, \n",
    "           quoting=csv.QUOTE_NONE)\n",
    "print(\"dsq --job-file 4_PMD_Modeling_dsq_job_{}_array.txt --ntasks=1 --nodes=1 --mem-per-cpu=10G --time=2:00:00 --mail-type ALL --partition psych_day --cpus-per-task=1 \".format(modality))"
   ]
  },
  {
   "cell_type": "markdown",
   "metadata": {},
   "source": [
    "### Create batch file for hyperparameter selection"
   ]
  },
  {
   "cell_type": "code",
   "execution_count": null,
   "metadata": {},
   "outputs": [],
   "source": [
    "commands_preproc = []\n",
    "num_iters = 100\n",
    "\n",
    "# cs = [0.1, 0.2, 0.3, 0.4, 0.5, 0.6, 0.7, 0.8, 0.9, 1] \n",
    "cs = [0.3, 0.35, 0.4, 0.45, 0.5, 0.55, 0.6, 0.65, 0.7]\n",
    "\n",
    "for num in range(0, num_iters):\n",
    "    for x in cs:\n",
    "        for y in cs:\n",
    "            commands_preproc.append('sh sbatch_DWI_RI_HyperparameterSelection.sh {} {} {}'.format(num, x, y))"
   ]
  },
  {
   "cell_type": "code",
   "execution_count": null,
   "metadata": {},
   "outputs": [],
   "source": [
    "out = pd.DataFrame(commands_preproc)\n",
    "file = home + '/4_HyperparamSelection_dsq_job_array.txt'\n",
    "out.to_csv(file, sep = '\\t', header = False, index=False, \n",
    "           quoting=csv.QUOTE_NONE)\n",
    "print(file)"
   ]
  }
 ],
 "metadata": {
  "kernelspec": {
   "display_name": "Python 3 (ipykernel)",
   "language": "python",
   "name": "python3"
  },
  "language_info": {
   "codemirror_mode": {
    "name": "ipython",
    "version": 3
   },
   "file_extension": ".py",
   "mimetype": "text/x-python",
   "name": "python",
   "nbconvert_exporter": "python",
   "pygments_lexer": "ipython3",
   "version": "3.7.12"
  }
 },
 "nbformat": 4,
 "nbformat_minor": 4
}
